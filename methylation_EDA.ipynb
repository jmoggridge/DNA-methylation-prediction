{
 "cells": [
  {
   "cell_type": "markdown",
   "id": "binding-strain",
   "metadata": {},
   "source": [
    "\n",
    "# Data cleaning and feature engineering\n",
    "\n",
    "---"
   ]
  },
  {
   "cell_type": "code",
   "execution_count": 327,
   "id": "acute-empire",
   "metadata": {},
   "outputs": [],
   "source": [
    "import re\n",
    "import numpy as np\n",
    "import pandas as pd\n",
    "import seaborn as sns\n",
    "import random\n",
    "from sklearn.preprocessing import OneHotEncoder\n",
    "from sklearn.model_selection import StratifiedKFold, StratifiedShuffleSplit\n",
    "from sklearn.ensemble import RandomForestClassifier\n",
    "# from sklearn.ensemble import MLPclassifier\n"
   ]
  },
  {
   "cell_type": "markdown",
   "id": "premier-grammar",
   "metadata": {},
   "source": [
    "<br>\n",
    "\n",
    "## Load data and rename columns\n",
    "\n",
    "#### Training data:\n",
    "\n",
    "- 29k rows x 10 cols, \n",
    "- 'Beta' is outcome: methylated or not \n",
    "- Chromosomes 1-10\n",
    "\n",
    "#### Test: \n",
    "- 20,611 rows, no outcome labels\n",
    "- Chromosomes 11-22"
   ]
  },
  {
   "cell_type": "code",
   "execution_count": 244,
   "id": "unique-chapel",
   "metadata": {},
   "outputs": [
    {
     "name": "stdout",
     "output_type": "stream",
     "text": [
      "<class 'pandas.core.frame.DataFrame'>\n",
      "RangeIndex: 29065 entries, 0 to 29064\n",
      "Data columns (total 7 columns):\n",
      " #   Column         Non-Null Count  Dtype   \n",
      "---  ------         --------------  -----   \n",
      " 0   position       29065 non-null  float64 \n",
      " 1   island         23717 non-null  object  \n",
      " 2   refgene        24822 non-null  string  \n",
      " 3   rel_to_island  23717 non-null  category\n",
      " 4   feature        16421 non-null  object  \n",
      " 5   fwd_seq        29065 non-null  string  \n",
      " 6   seq            29065 non-null  string  \n",
      "dtypes: category(1), float64(1), object(2), string(3)\n",
      "memory usage: 1.4+ MB\n"
     ]
    }
   ],
   "source": [
    "train = pd.read_csv('data/train.csv')\n",
    "\n",
    "# give the data names that don't suck\n",
    "train = train.rename(columns={\"Id\": \"id\",\n",
    "                              \"CHR\": \"chromosome\", \n",
    "                              \"MAPINFO\": \"position\",\n",
    "                              \"UCSC_CpG_Islands_Name\": \"island\",  \n",
    "                              \"UCSC_RefGene_Group\":\"refgene\",\n",
    "                              \"Relation_to_UCSC_CpG_Island\": \"rel_to_island\",\n",
    "                              \"Regulatory_Feature_Group\": \"feature\",\n",
    "                              \"Forward_Sequence\":\"fwd_seq\",\n",
    "                              \"Beta\": \"outcome\"})\n",
    "\n",
    "# change categorical variables dtypes\n",
    "for col in [\"rel_to_island\", \"outcome\"]:\n",
    "    train[col] = train[col].astype(\"category\")\n",
    "for col in [\"fwd_seq\", \"seq\", \"refgene\"]:\n",
    "    train[col] = train[col].astype(\"string\")\n",
    "train['position'] = train['position'].astype('float64')\n",
    "\n",
    "y = train['outcome']\n",
    "df = train.drop(['id', 'chromosome', 'outcome'], 1)\n",
    "df.info()"
   ]
  },
  {
   "cell_type": "markdown",
   "id": "expanded-female",
   "metadata": {},
   "source": [
    "---\n",
    "\n",
    "<br>\n",
    "\n",
    "## Features of the data \n",
    "\n",
    "- `id`: unique identifiers \n",
    "  - not useful for training, useful for data handling though  \n",
    "  \n",
    "  \n",
    "- `chromosome, position` (exact CpG site): \n",
    "  - not really sure how to use this given that test is from different chromosomes  \n",
    "  - don't want classifier to memorize positions (values = n)  \n",
    "  - could derive other features like size of island, placement of cg inside of island  \n",
    "    \n",
    "    \n",
    "- `island`: chr + position range of island  \n",
    "  - again, very specific to each site which could lead to over training  \n",
    "  - some missing data (4k)  \n",
    "  \n",
    "- `refgene`: UCSC_RefGene_Group\n",
    "  - 1089 unique values...\n",
    "  - contains list of tags about functional elements:\n",
    "      - TSS* {200, .}\n",
    "      - 1st exon\n",
    "      - Body\n",
    "      - 5'UTR\n",
    "  - Each can have multiple tags, even multiple of same tags....\n",
    "  - Maybe split into counts for each tag: columns [TSS200, TSS1500, exon1, body, utr5, ...]\n",
    "\n",
    "Body:14797  TSS200:10935   5'UTR:9117 1stExon:6928 TSS1500:7634   3'UTR:866    NA's:4243 \n",
    "                           \n",
    "\n",
    "- `feature`: lots of missing data, seems like 2 different factors\n",
    "  - Promoter/Gene/NonGene_Associated or Unclassified  \n",
    "      - not Cell_type_specific\n",
    "  - Promoter/Gene/NonGene_Associated_Cell_type_specific or Unclassified_Cell_type_specific\n",
    "  - NA (~12k)\n",
    "  \n",
    "  \n",
    "- `relation_to_island`:\n",
    "  - 5 levels: Island:18269, S_Shore:2107, N_Shelf: 529, N_Shore: 2378, S_Shelf: 434, NA's: 5348\n",
    "  \n",
    "  \n",
    "- `Fwd_seq` and `seq`:\n",
    "  - not sure what is the relationship between these?\n",
    "  - `Fwd_seq` has the [CG] site marked and are all 124 bp long\n",
    "  - `seq` is 2kbp of sequence\n",
    "\n",
    "  \n",
    "----"
   ]
  },
  {
   "cell_type": "markdown",
   "id": "convinced-chicken",
   "metadata": {},
   "source": [
    "## Nominal data\n",
    "  \n",
    "  <br>"
   ]
  },
  {
   "cell_type": "code",
   "execution_count": 245,
   "id": "alive-butter",
   "metadata": {},
   "outputs": [
    {
     "name": "stdout",
     "output_type": "stream",
     "text": [
      "<StringArray>\n",
      "[                                'Body;Body',\n",
      "                                    'TSS200',\n",
      "                               \"5'UTR;5'UTR\",\n",
      "                                      'Body',\n",
      "                           '1stExon;1stExon',\n",
      "                        \"5'UTR;TSS200;5'UTR\",\n",
      "                                        <NA>,\n",
      "                       'Body;Body;Body;Body',\n",
      " \"5'UTR;1stExon;1stExon;5'UTR;1stExon;5'UTR\",\n",
      "                           'TSS1500;TSS1500']\n",
      "Length: 10, dtype: string\n"
     ]
    }
   ],
   "source": [
    "# refgene has lists of tags\n",
    "print(df['refgene'].unique()[:10])"
   ]
  },
  {
   "cell_type": "code",
   "execution_count": 246,
   "id": "sixth-hanging",
   "metadata": {},
   "outputs": [
    {
     "name": "stdout",
     "output_type": "stream",
     "text": [
      "[nan 'Promoter_Associated' 'Unclassified' 'Gene_Associated'\n",
      " 'Unclassified_Cell_type_specific'\n",
      " 'Promoter_Associated_Cell_type_specific' 'NonGene_Associated'\n",
      " 'Gene_Associated_Cell_type_specific'\n",
      " 'NonGene_Associated_Cell_type_specific']\n"
     ]
    }
   ],
   "source": [
    "# feature has 2 categories: classes (celltype_specific or not)\n",
    "# and (promoter / gene / non-gene / unclassified)\n",
    "print(df['feature'].unique())"
   ]
  },
  {
   "cell_type": "code",
   "execution_count": 249,
   "id": "written-palestinian",
   "metadata": {},
   "outputs": [
    {
     "name": "stdout",
     "output_type": "stream",
     "text": [
      "['Island', nan, 'S_Shore', 'N_Shelf', 'N_Shore', 'S_Shelf'] \n",
      "\n"
     ]
    }
   ],
   "source": [
    "# relation to island is one of 5 levels or unknown\n",
    "print(list(df['rel_to_island'].unique()), '\\n')\n"
   ]
  },
  {
   "cell_type": "markdown",
   "id": "downtown-exemption",
   "metadata": {},
   "source": [
    "---\n",
    "\n",
    "## Making dummy variables for categories"
   ]
  },
  {
   "cell_type": "code",
   "execution_count": 250,
   "id": "specific-exhaust",
   "metadata": {},
   "outputs": [],
   "source": [
    "\n",
    "## get dummies for \"Relation_to_UCSC_CpG_Island\": 5 levels\n",
    "df = pd.get_dummies(df, columns =['rel_to_island'], prefix_sep = '', prefix = '')\n",
    "\n",
    "## pull terms from 'UCSC_RefGene_Group' lists into columns of counts\n",
    "for term in [\"TSS200\", \"TSS15000\", \"Body\", \"5'UTR\", \"3'UTR\", \"1stExon\"]:\n",
    "    df[term] = df[\"refgene\"].str.count(term)\n",
    "    df[term] = df[term].fillna(0).astype('int32')\n",
    "\n",
    "## create 2 sets of dummies from 'feature' (Regulatory_Feature_Group)\n",
    "df[\"cell_type_specific\"] = df['feature'].str.count(\"_Cell_type_specific\").fillna(0).astype('int32')\n",
    "for term in [\"Gene_Associated\", \"NonGene_Associated\", \"Promoter_Associated\", \"Unclassified\"]:\n",
    "    df[term] = df['feature'].str.count(term).fillna(0).astype('int32')\n",
    "\n",
    "## postion of CpG relative to nearby island - lots of missing values though\n",
    "df['isl_start'] = df['island'].str.extract(':(\\d+)').astype('float64')\n",
    "df['pos_to_start'] = df['position'] - df['isl_start']\n",
    "df['isl_end'] = df['island'].str.extract('-(\\d+)').astype('float64')\n",
    "df['pos_to_end'] = df['isl_end'] - df['position']\n",
    "\n",
    "\n",
    "df = df.drop(columns = ['feature', 'isl_start', 'isl_end', 'position', 'island', 'refgene'])"
   ]
  },
  {
   "cell_type": "code",
   "execution_count": 251,
   "id": "institutional-scanner",
   "metadata": {},
   "outputs": [
    {
     "name": "stdout",
     "output_type": "stream",
     "text": [
      "<class 'pandas.core.frame.DataFrame'>\n",
      "RangeIndex: 29065 entries, 0 to 29064\n",
      "Data columns (total 20 columns):\n",
      " #   Column               Non-Null Count  Dtype  \n",
      "---  ------               --------------  -----  \n",
      " 0   fwd_seq              29065 non-null  string \n",
      " 1   seq                  29065 non-null  string \n",
      " 2   Island               29065 non-null  uint8  \n",
      " 3   N_Shelf              29065 non-null  uint8  \n",
      " 4   N_Shore              29065 non-null  uint8  \n",
      " 5   S_Shelf              29065 non-null  uint8  \n",
      " 6   S_Shore              29065 non-null  uint8  \n",
      " 7   TSS200               29065 non-null  int32  \n",
      " 8   TSS15000             29065 non-null  int32  \n",
      " 9   Body                 29065 non-null  int32  \n",
      " 10  5'UTR                29065 non-null  int32  \n",
      " 11  3'UTR                29065 non-null  int32  \n",
      " 12  1stExon              29065 non-null  int32  \n",
      " 13  cell_type_specific   29065 non-null  int32  \n",
      " 14  Gene_Associated      29065 non-null  int32  \n",
      " 15  NonGene_Associated   29065 non-null  int32  \n",
      " 16  Promoter_Associated  29065 non-null  int32  \n",
      " 17  Unclassified         29065 non-null  int32  \n",
      " 18  pos_to_start         23717 non-null  float64\n",
      " 19  pos_to_end           23717 non-null  float64\n",
      "dtypes: float64(2), int32(11), string(2), uint8(5)\n",
      "memory usage: 2.2 MB\n"
     ]
    }
   ],
   "source": [
    "df.info()"
   ]
  },
  {
   "cell_type": "markdown",
   "id": "available-springfield",
   "metadata": {},
   "source": [
    "---\n",
    "\n",
    "## Encoding sequences\n",
    "\n",
    "There are shorter regions (60 bp up and downstream) and longer sequences (2kbp)"
   ]
  },
  {
   "cell_type": "code",
   "execution_count": 336,
   "id": "arranged-organic",
   "metadata": {},
   "outputs": [],
   "source": [
    "## split the upstream and downstream seq around CpG site\n",
    "short_lr = df['fwd_seq'].str.split('\\[|\\]', expand = True).drop(1, axis = 1).rename(columns={0:'short_l', 2:'short_r'})"
   ]
  },
  {
   "cell_type": "code",
   "execution_count": 299,
   "id": "particular-comparative",
   "metadata": {},
   "outputs": [],
   "source": [
    "df = pd.concat([df, l_and_r], axis=1)"
   ]
  },
  {
   "cell_type": "code",
   "execution_count": 337,
   "id": "floral-frequency",
   "metadata": {},
   "outputs": [
    {
     "name": "stdout",
     "output_type": "stream",
     "text": [
      "GGACCACACTGCCATGGCAACAGCGTGCCTCTGCGTCCTCCATCCGGGCCTCTCTAACTA\n",
      "{60}\n",
      "{60}\n"
     ]
    }
   ],
   "source": [
    "print(df['short_l'][1])\n",
    "print(set(len(x) for x in df['short_l']))\n",
    "print(set(len(x) for x in df['short_r']))"
   ]
  },
  {
   "cell_type": "code",
   "execution_count": 338,
   "id": "whole-ancient",
   "metadata": {},
   "outputs": [
    {
     "name": "stdout",
     "output_type": "stream",
     "text": [
      "<class 'pandas.core.frame.DataFrame'>\n",
      "RangeIndex: 29065 entries, 0 to 29064\n",
      "Data columns (total 23 columns):\n",
      " #   Column               Non-Null Count  Dtype  \n",
      "---  ------               --------------  -----  \n",
      " 0   fwd_seq              29065 non-null  string \n",
      " 1   seq                  29065 non-null  string \n",
      " 2   Island               29065 non-null  uint8  \n",
      " 3   N_Shelf              29065 non-null  uint8  \n",
      " 4   N_Shore              29065 non-null  uint8  \n",
      " 5   S_Shelf              29065 non-null  uint8  \n",
      " 6   S_Shore              29065 non-null  uint8  \n",
      " 7   TSS200               29065 non-null  int32  \n",
      " 8   TSS15000             29065 non-null  int32  \n",
      " 9   Body                 29065 non-null  int32  \n",
      " 10  5'UTR                29065 non-null  int32  \n",
      " 11  3'UTR                29065 non-null  int32  \n",
      " 12  1stExon              29065 non-null  int32  \n",
      " 13  cell_type_specific   29065 non-null  int32  \n",
      " 14  Gene_Associated      29065 non-null  int32  \n",
      " 15  NonGene_Associated   29065 non-null  int32  \n",
      " 16  Promoter_Associated  29065 non-null  int32  \n",
      " 17  Unclassified         29065 non-null  int32  \n",
      " 18  pos_to_start         23717 non-null  float64\n",
      " 19  pos_to_end           23717 non-null  float64\n",
      " 20  dna_5_short          29065 non-null  object \n",
      " 21  short_l              29065 non-null  string \n",
      " 22  short_r              29065 non-null  string \n",
      "dtypes: float64(2), int32(11), object(1), string(4), uint8(5)\n",
      "memory usage: 2.9+ MB\n"
     ]
    }
   ],
   "source": [
    "df.info()"
   ]
  },
  {
   "cell_type": "code",
   "execution_count": 311,
   "id": "cleared-roman",
   "metadata": {},
   "outputs": [
    {
     "data": {
      "text/html": [
       "<div>\n",
       "<style scoped>\n",
       "    .dataframe tbody tr th:only-of-type {\n",
       "        vertical-align: middle;\n",
       "    }\n",
       "\n",
       "    .dataframe tbody tr th {\n",
       "        vertical-align: top;\n",
       "    }\n",
       "\n",
       "    .dataframe thead th {\n",
       "        text-align: right;\n",
       "    }\n",
       "</style>\n",
       "<table border=\"1\" class=\"dataframe\">\n",
       "  <thead>\n",
       "    <tr style=\"text-align: right;\">\n",
       "      <th></th>\n",
       "      <th>0</th>\n",
       "    </tr>\n",
       "  </thead>\n",
       "  <tbody>\n",
       "    <tr>\n",
       "      <th>0</th>\n",
       "      <td>GCGCTTCTTTGCCCCGATGAGTTCGCCTCCCCAAACGCCTACTTCG...</td>\n",
       "    </tr>\n",
       "    <tr>\n",
       "      <th>1</th>\n",
       "      <td>AGTAAGAGACGGAAATAAATTCCTTCCTCCCTGAGTGTCTGGTAAA...</td>\n",
       "    </tr>\n",
       "    <tr>\n",
       "      <th>2</th>\n",
       "      <td>AAAGGACTGAAATGCCCAGCAGGTGCTCAAGAATTGCTACCATGGC...</td>\n",
       "    </tr>\n",
       "    <tr>\n",
       "      <th>3</th>\n",
       "      <td>TTCTTGAAGATAACTTTCCAGAAGTACAATTTCTTGAGTCAAAGGG...</td>\n",
       "    </tr>\n",
       "    <tr>\n",
       "      <th>4</th>\n",
       "      <td>AAAGGAAGCAAGACGTTAGGAAAGATTAAAGACTGCACGATTTTAA...</td>\n",
       "    </tr>\n",
       "    <tr>\n",
       "      <th>...</th>\n",
       "      <td>...</td>\n",
       "    </tr>\n",
       "    <tr>\n",
       "      <th>29060</th>\n",
       "      <td>AAGAGACTCTGCAGGCTGCCCAGGGTGGTGAGAACAATGATGATGG...</td>\n",
       "    </tr>\n",
       "    <tr>\n",
       "      <th>29061</th>\n",
       "      <td>TTACTCAGACGCTGCAGGTTGTGAATTTCAGTCCTGGTAAATCATG...</td>\n",
       "    </tr>\n",
       "    <tr>\n",
       "      <th>29062</th>\n",
       "      <td>CTCCAAGCCTGAAGAGCCTCTGCCTTCCCTTCCCTCACTCTGCGTG...</td>\n",
       "    </tr>\n",
       "    <tr>\n",
       "      <th>29063</th>\n",
       "      <td>TCATGGCGGCAGGGATGGAAGCTATGCATGGGTTCAGCAACATGGA...</td>\n",
       "    </tr>\n",
       "    <tr>\n",
       "      <th>29064</th>\n",
       "      <td>TTCCTTGCTGTACACAGAAAGTCCTGTTACCTGTGCGTATAGCACA...</td>\n",
       "    </tr>\n",
       "  </tbody>\n",
       "</table>\n",
       "<p>29065 rows × 1 columns</p>\n",
       "</div>"
      ],
      "text/plain": [
       "                                                       0\n",
       "0      GCGCTTCTTTGCCCCGATGAGTTCGCCTCCCCAAACGCCTACTTCG...\n",
       "1      AGTAAGAGACGGAAATAAATTCCTTCCTCCCTGAGTGTCTGGTAAA...\n",
       "2      AAAGGACTGAAATGCCCAGCAGGTGCTCAAGAATTGCTACCATGGC...\n",
       "3      TTCTTGAAGATAACTTTCCAGAAGTACAATTTCTTGAGTCAAAGGG...\n",
       "4      AAAGGAAGCAAGACGTTAGGAAAGATTAAAGACTGCACGATTTTAA...\n",
       "...                                                  ...\n",
       "29060  AAGAGACTCTGCAGGCTGCCCAGGGTGGTGAGAACAATGATGATGG...\n",
       "29061  TTACTCAGACGCTGCAGGTTGTGAATTTCAGTCCTGGTAAATCATG...\n",
       "29062  CTCCAAGCCTGAAGAGCCTCTGCCTTCCCTTCCCTCACTCTGCGTG...\n",
       "29063  TCATGGCGGCAGGGATGGAAGCTATGCATGGGTTCAGCAACATGGA...\n",
       "29064  TTCCTTGCTGTACACAGAAAGTCCTGTTACCTGTGCGTATAGCACA...\n",
       "\n",
       "[29065 rows x 1 columns]"
      ]
     },
     "execution_count": 311,
     "metadata": {},
     "output_type": "execute_result"
    }
   ],
   "source": [
    "df['seq'].str.split('\\[|\\]', expand = True)"
   ]
  },
  {
   "cell_type": "code",
   "execution_count": 325,
   "id": "skilled-hampton",
   "metadata": {},
   "outputs": [
    {
     "name": "stdout",
     "output_type": "stream",
     "text": [
      "939\n",
      "939\n",
      "939\n",
      "939\n",
      "939\n",
      "939\n",
      "939\n",
      "939\n",
      "939\n",
      "939\n"
     ]
    }
   ],
   "source": [
    "for x in range(10):\n",
    "    pos = df['seq'][x].find(re.sub(r'[\\[|\\]]', '', df['fwd_seq'][x]))\n",
    "    print(pos)\n",
    "    df['seq'][x][pos:pos+122]"
   ]
  },
  {
   "cell_type": "code",
   "execution_count": 339,
   "id": "upper-pressure",
   "metadata": {},
   "outputs": [
    {
     "data": {
      "text/plain": [
       "4096"
      ]
     },
     "execution_count": 339,
     "metadata": {},
     "output_type": "execute_result"
    }
   ],
   "source": []
  },
  {
   "cell_type": "code",
   "execution_count": null,
   "id": "center-annual",
   "metadata": {},
   "outputs": [],
   "source": []
  },
  {
   "cell_type": "code",
   "execution_count": null,
   "id": "african-apple",
   "metadata": {},
   "outputs": [],
   "source": []
  },
  {
   "cell_type": "code",
   "execution_count": null,
   "id": "floating-beijing",
   "metadata": {},
   "outputs": [],
   "source": []
  },
  {
   "cell_type": "code",
   "execution_count": null,
   "id": "suffering-effects",
   "metadata": {},
   "outputs": [],
   "source": [
    "del(train)"
   ]
  },
  {
   "cell_type": "markdown",
   "id": "attended-application",
   "metadata": {},
   "source": [
    "## Test data\n"
   ]
  },
  {
   "cell_type": "code",
   "execution_count": null,
   "id": "blank-subscription",
   "metadata": {},
   "outputs": [],
   "source": [
    "## Same thing for test data\n",
    "test = pd.read_csv('data/test.csv')\n",
    "test = test.rename(columns={\"Id\": \"id\",\n",
    "                              \"CHR\": \"chromosome\", \n",
    "                              \"MAPINFO\": \"position\",\n",
    "                              \"UCSC_CpG_Islands_Name\": \"island\",  \n",
    "                              \"UCSC_RefGene_Group\":\"refgene\",\n",
    "                              \"Relation_to_UCSC_CpG_Island\": \"rel_to_island\",\n",
    "                              \"Regulatory_Feature_Group\": \"feature\",\n",
    "                              \"Forward_Sequence\":\"fwd_seq\"})\n",
    "# change categorical variables dtypes\n",
    "test[\"rel_to_island\"] = test[\"rel_to_island\"].astype(\"category\")"
   ]
  },
  {
   "cell_type": "code",
   "execution_count": null,
   "id": "multiple-beginning",
   "metadata": {},
   "outputs": [],
   "source": [
    "test"
   ]
  },
  {
   "cell_type": "code",
   "execution_count": null,
   "id": "pacific-government",
   "metadata": {},
   "outputs": [],
   "source": []
  }
 ],
 "metadata": {
  "kernelspec": {
   "display_name": "Python 3",
   "language": "python",
   "name": "python3"
  },
  "language_info": {
   "codemirror_mode": {
    "name": "ipython",
    "version": 3
   },
   "file_extension": ".py",
   "mimetype": "text/x-python",
   "name": "python",
   "nbconvert_exporter": "python",
   "pygments_lexer": "ipython3",
   "version": "3.7.9"
  }
 },
 "nbformat": 4,
 "nbformat_minor": 5
}
